{
 "cells": [
  {
   "cell_type": "code",
   "execution_count": 21,
   "metadata": {
    "collapsed": true
   },
   "outputs": [],
   "source": [
    "import os\n",
    "import numpy as np\n",
    "import matplotlib.pyplot as plt\n",
    "import seaborn as sns\n",
    "sns.set(font_scale=1.4, style='whitegrid')\n",
    "\n",
    "import torch\n",
    "import torchvision\n",
    "from torchvision import models, datasets, transforms\n",
    "from torch import nn\n",
    "import torch.nn.functional as F\n",
    "from torch.optim import lr_scheduler\n",
    "from torch.utils.data import Dataset, DataLoader\n",
    "\n",
    "\n",
    "from tqdm import tqdm_notebook, trange\n",
    "\n",
    "from sklearn.preprocessing import LabelEncoder\n",
    "from pathlib import Path\n",
    "import pickle\n",
    "from PIL import Image"
   ]
  },
  {
   "cell_type": "code",
   "execution_count": 2,
   "outputs": [
    {
     "data": {
      "text/plain": "device(type='cuda')"
     },
     "execution_count": 2,
     "metadata": {},
     "output_type": "execute_result"
    }
   ],
   "source": [
    "device = torch.device('cuda') if torch.cuda.is_available else torch.device('cpu')\n",
    "device"
   ],
   "metadata": {
    "collapsed": false,
    "pycharm": {
     "name": "#%%\n"
    }
   }
  },
  {
   "cell_type": "code",
   "execution_count": 15,
   "outputs": [],
   "source": [
    "def imshow(inp, title=None):\n",
    "    \"\"\"Imshow for Tensor.\"\"\"\n",
    "    inp = inp.numpy().transpose((1, 2, 0))\n",
    "    mean = np.array([0.485, 0.456, 0.406])\n",
    "    std = np.array([0.229, 0.224, 0.225])\n",
    "    inp = std * inp + mean\n",
    "    inp = np.clip(inp, 0, 1)\n",
    "    plt.figure(figsize=(8, 8))\n",
    "    plt.axis('off')\n",
    "    plt.imshow(inp)\n",
    "    if title is not None:\n",
    "        plt.title(title)\n",
    "    plt.pause(0.001)\n",
    "\n",
    "\n",
    "def visualize_model(model, num_images=6):\n",
    "    images_so_far = 0\n",
    "    fig = plt.figure()\n",
    "\n",
    "    for i, data in enumerate(dataloaders['val']):\n",
    "        inp, lab = data\n",
    "        inp, lab = inp.to(device), lab.to(device)\n",
    "\n",
    "        outputs = model(inp)\n",
    "        _, preds = torch.max(outputs.data, 1)\n",
    "\n",
    "        for j in range(inp.size()[0]):\n",
    "            images_so_far += 1\n",
    "            imshow(inp.cpu().data[j], class_name[preds[j]])\n",
    "\n",
    "            if images_so_far == num_images:\n",
    "                return"
   ],
   "metadata": {
    "collapsed": false,
    "pycharm": {
     "name": "#%%\n"
    }
   }
  },
  {
   "cell_type": "code",
   "execution_count": 4,
   "outputs": [],
   "source": [
    "DATA = ['train', 'val', 'test']\n",
    "RESCALE_SIZE = 224"
   ],
   "metadata": {
    "collapsed": false,
    "pycharm": {
     "name": "#%%\n"
    }
   }
  },
  {
   "cell_type": "code",
   "execution_count": 9,
   "outputs": [],
   "source": [
    "class SimpsonsDataset(Dataset):\n",
    "    def __init__(self, files, mode):\n",
    "        super().__init__()\n",
    "        self.files = sorted(files)\n",
    "        self.mode = mode\n",
    "\n",
    "        if self.mode not in DATA:\n",
    "            print(f'{self.mode} is not correct')\n",
    "            raise NameError\n",
    "\n",
    "        self.len_ = len(self.files)\n",
    "        self.label_encoder = LabelEncoder()\n",
    "\n",
    "        if self.mode != 'test':\n",
    "            self.labels = [path.parent.name for path in self.files]\n",
    "            self.label_encoder.fit(self.labels)\n",
    "\n",
    "            with open('label_encoder.pkl', 'wb') as le_dump_file:\n",
    "                pickle.dump(self.label_encoder, le_dump_file)\n",
    "\n",
    "    def __len__(self):\n",
    "        return self.len_\n",
    "\n",
    "    def load_sample(self, file):\n",
    "        image = Image.open(file)\n",
    "        image.load()\n",
    "        return image\n",
    "\n",
    "    def __getitem__(self, item):\n",
    "        transform = transforms.Compose([\n",
    "            transforms.ToTensor(),\n",
    "            transforms.Normalize([0.485, 0.456, 0.406], [0.229, 0.224, 0.225])\n",
    "        ])\n",
    "        x = self.load_sample(self.files[item])\n",
    "        x = self._prepare_sample(x)\n",
    "        x = np.array(x/255, dtype='float32')\n",
    "        x = transform(x)\n",
    "\n",
    "        if self.mode == 'test':\n",
    "            return x\n",
    "        else:\n",
    "            label = self.labels[item]\n",
    "            label_id = self.label_encoder.transform([label])\n",
    "            y = label_id.item()\n",
    "            return x, y\n",
    "\n",
    "    def _prepare_sample(self, image):\n",
    "        image = image.resize((RESCALE_SIZE, RESCALE_SIZE))\n",
    "        return np.array(image)"
   ],
   "metadata": {
    "collapsed": false,
    "pycharm": {
     "name": "#%%\n"
    }
   }
  },
  {
   "cell_type": "code",
   "execution_count": 10,
   "outputs": [],
   "source": [
    "TRAIN_DIR = Path('Simpsons/train/simpsons_dataset')\n",
    "TEST_DIR = Path('Simpsons/testset')\n",
    "\n",
    "train_val_files = sorted(list(TRAIN_DIR.rglob('*.jpg')))\n",
    "test_files = sorted(list(TEST_DIR.rglob('*.jpg')))"
   ],
   "metadata": {
    "collapsed": false,
    "pycharm": {
     "name": "#%%\n"
    }
   }
  },
  {
   "cell_type": "code",
   "execution_count": 61,
   "outputs": [],
   "source": [
    "from sklearn.model_selection import train_test_split\n",
    "\n",
    "train_val_labels = [path.parent.name for path in train_val_files]\n",
    "train_files, val_files = train_test_split(train_val_files, test_size=0.25, stratify=train_val_labels)"
   ],
   "metadata": {
    "collapsed": false,
    "pycharm": {
     "name": "#%%\n"
    }
   }
  },
  {
   "cell_type": "code",
   "execution_count": 18,
   "outputs": [],
   "source": [
    "val_dataset = SimpsonsDataset(val_files, mode='val')\n",
    "train_dataset = SimpsonsDataset(train_files, mode='train')\n",
    "test_dataset = SimpsonsDataset(test_files, mode='test')"
   ],
   "metadata": {
    "collapsed": false,
    "pycharm": {
     "name": "#%%\n"
    }
   }
  },
  {
   "cell_type": "code",
   "execution_count": 103,
   "outputs": [],
   "source": [
    "dataloaders = {\n",
    "    'train': torch.utils.data.DataLoader(train_dataset, batch_size=128, shuffle=True, num_workers=3),\n",
    "    'val': torch.utils.data.DataLoader(val_dataset, batch_size=128, shuffle=True, num_workers=3)\n",
    "}\n",
    "dataset_size = {'train': len(train_dataset), 'val': len(val_dataset)}\n",
    "class_name = np.array(np.unique(train_val_labels))"
   ],
   "metadata": {
    "collapsed": false,
    "pycharm": {
     "name": "#%%\n"
    }
   }
  },
  {
   "cell_type": "code",
   "execution_count": 105,
   "outputs": [
    {
     "data": {
      "text/plain": "{'train': <torch.utils.data.dataloader.DataLoader at 0x22511e6bcd0>,\n 'val': <torch.utils.data.dataloader.DataLoader at 0x22511e6baf0>}"
     },
     "execution_count": 105,
     "metadata": {},
     "output_type": "execute_result"
    }
   ],
   "source": [],
   "metadata": {
    "collapsed": false,
    "pycharm": {
     "name": "#%%\n"
    }
   }
  },
  {
   "cell_type": "code",
   "execution_count": 106,
   "outputs": [],
   "source": [
    "def fit(model, criterion, optimizer, exp_lr_scheduler, num_epochs=30):\n",
    "    losses = {'train': [], 'val': []}\n",
    "    best_model_wts = model.state_dict()\n",
    "    best_acc = 0.0\n",
    "\n",
    "    for epoch in tqdm_notebook(num_epochs):\n",
    "        for phase in ['train', 'val']:\n",
    "            if phase == 'train':\n",
    "                exp_lr_scheduler.step()\n",
    "                model.train(True)\n",
    "            else:\n",
    "                model.eval()\n",
    "\n",
    "            running_loss = 0.0\n",
    "            running_corrects = 0\n",
    "\n",
    "            for xb, yb, in tqdm_notebook(dataloaders[phase]):\n",
    "                xb, yb = xb.to(device), yb.to(device)\n",
    "\n",
    "                if phase == 'train':\n",
    "                    optimizer.zero_grad()\n",
    "\n",
    "                if phase == 'val':\n",
    "                    with torch.no_grad():\n",
    "                        outputs = model(xb)\n",
    "                else:\n",
    "                    outputs = model(xb)\n",
    "\n",
    "                preds = torch.argmax(outputs, -1)\n",
    "                loss = criterion(outputs, yb)\n",
    "\n",
    "                if phase == 'train':\n",
    "                    loss.backward()\n",
    "                    optimizer.step()\n",
    "\n",
    "                running_loss += loss.item()\n",
    "                running_corrects += int(torch.sum(preds == yb.data))\n",
    "\n",
    "            epoch_loss = running_loss / dataset_size[phase]\n",
    "            epoch_acc = running_corrects / dataset_size[phase]\n",
    "\n",
    "            losses[phase].append(epoch_loss)\n",
    "            if phase == 'val' and epoch_acc > best_acc:\n",
    "                best_acc = epoch_acc\n",
    "                best_model_wts = model.state_dict()\n",
    "    model.load_state_dict(best_model_wts)\n",
    "    return losses, model"
   ],
   "metadata": {
    "collapsed": false,
    "pycharm": {
     "name": "#%%\n"
    }
   }
  },
  {
   "cell_type": "code",
   "execution_count": 107,
   "outputs": [],
   "source": [
    "def predict(model, test_loader):\n",
    "    with torch.no_grad():\n",
    "        logits = []\n",
    "\n",
    "        for inp in test_loader:\n",
    "            inp = inp.to(device)\n",
    "            model.eval()\n",
    "            outputs = model(inp).cpu()\n",
    "            logits.append(outputs)\n",
    "\n",
    "    probs = F.softmax(torch.cat(logits), dim=-1).numpy()\n",
    "    return probs"
   ],
   "metadata": {
    "collapsed": false,
    "pycharm": {
     "name": "#%%\n"
    }
   }
  },
  {
   "cell_type": "code",
   "execution_count": 109,
   "outputs": [],
   "source": [
    "class ConvBlock(nn.Module):\n",
    "    def __init__(self, in_chan: int, out_chan: int, kernel_size, **kwargs):\n",
    "        super().__init__()\n",
    "        self.conv1 = nn.Conv2d(in_chan, out_chan, kernel_size, **kwargs)\n",
    "        self.pool = nn.MaxPool2d(kernel_size, stride=2)\n",
    "        self.bn = nn.BatchNorm2d(out_chan, eps=0.0001)\n",
    "\n",
    "    def forward(self, x):\n",
    "        x = self.bn(self.pool(F.relu(self.conv1(x))))\n",
    "        return x"
   ],
   "metadata": {
    "collapsed": false,
    "pycharm": {
     "name": "#%%\n"
    }
   }
  },
  {
   "cell_type": "code",
   "execution_count": 111,
   "outputs": [],
   "source": [
    "class Conv1Layer(nn.Module):\n",
    "    \"\"\"The first&second layer of the schema Layers_for_Simpsons_net.drawio\"\"\"\n",
    "    def __init__(self, in_chan, conv_layer):\n",
    "        super().__init__()\n",
    "        if conv_layer is None:\n",
    "            conv_layer = ConvBlock\n",
    "\n",
    "        self.branch3x3_1 = conv_layer(in_chan, 8, kernel_size=3)\n",
    "        self.branch3x3_2 = conv_layer(8, 16, kernel_size=3)\n",
    "\n",
    "        self.branch4x4_1 = conv_layer(in_chan, 8, kernel_size=4)\n",
    "        self.branch4x4_2 = conv_layer(8, 16, kernel_size=3)\n",
    "\n",
    "        self.branch5x5_1 = conv_layer(in_chan, 8, kernel_size=5)\n",
    "        self.branch5x5_2 = conv_layer(8, 16, kernel_size=5)\n",
    "\n",
    "        self.branch7x7_1 = conv_layer(in_chan, 8, kernel_size=7)\n",
    "        self.branch7x7_2 = conv_layer(8, 16, kernel_size=5)\n",
    "\n",
    "    def _forward(self, x):\n",
    "        branch3x3 = self.branch3x3_2(self.branch3x3_1(x))\n",
    "        branch4x4 = self.branch4x4_2(self.branch4x4_1(x))\n",
    "        branch5x5 = self.branch5x5_2(self.branch5x5_1(x))\n",
    "        branch7x7 = self.branch7x7_2(self.branch7x7_1(x))\n",
    "\n",
    "        outputs = [branch3x3, branch4x4, branch5x5, branch7x7]\n",
    "        return outputs\n",
    "\n",
    "    def forward(self, x):\n",
    "        outputs = self._forward(x)\n",
    "        return torch.cat(outputs, 1)"
   ],
   "metadata": {
    "collapsed": false,
    "pycharm": {
     "name": "#%%\n"
    }
   }
  },
  {
   "cell_type": "code",
   "execution_count": null,
   "outputs": [],
   "source": [],
   "metadata": {
    "collapsed": false,
    "pycharm": {
     "name": "#%%\n"
    }
   }
  }
 ],
 "metadata": {
  "kernelspec": {
   "display_name": "Python 3",
   "language": "python",
   "name": "python3"
  },
  "language_info": {
   "codemirror_mode": {
    "name": "ipython",
    "version": 2
   },
   "file_extension": ".py",
   "mimetype": "text/x-python",
   "name": "python",
   "nbconvert_exporter": "python",
   "pygments_lexer": "ipython2",
   "version": "2.7.6"
  }
 },
 "nbformat": 4,
 "nbformat_minor": 0
}